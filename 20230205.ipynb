{
  "nbformat": 4,
  "nbformat_minor": 0,
  "metadata": {
    "colab": {
      "provenance": []
    },
    "kernelspec": {
      "name": "python3",
      "display_name": "Python 3"
    },
    "language_info": {
      "name": "python"
    }
  },
  "cells": [
    {
      "cell_type": "markdown",
      "source": [
        "# python\n"
      ],
      "metadata": {
        "id": "MKMv91_AMQ9y"
      }
    },
    {
      "cell_type": "code",
      "execution_count": 2,
      "metadata": {
        "colab": {
          "base_uri": "https://localhost:8080/"
        },
        "id": "TV_dHJBHLuYY",
        "outputId": "2b786bcb-fd43-43ce-eca2-00f9f26f7227"
      },
      "outputs": [
        {
          "output_type": "stream",
          "name": "stdout",
          "text": [
            "pandas version: 1.3.5\n",
            "matplotlib version: 3.2.2\n",
            "numpy version: 1.21.6\n",
            "scikit-learn version: 1.0.2\n",
            "tensorflow version: 2.9.2\n",
            "PyTorch version: 1.13.1+cu116\n",
            "2021年4月PyTorch version最新版本 請參閱https://pytorch.org/\n"
          ]
        }
      ],
      "source": [
        "#python\n",
        "import pandas as pd\n",
        "print(\"pandas version: %s\" % pd.__version__)\n",
        " \n",
        "import matplotlib\n",
        "print(\"matplotlib version: %s\" % matplotlib.__version__)\n",
        " \n",
        "import numpy as np\n",
        "print(\"numpy version: %s\" % np.__version__)\n",
        " \n",
        "import sklearn\n",
        "print(\"scikit-learn version: %s\" % sklearn.__version__)\n",
        " \n",
        "import tensorflow as tf\n",
        "print(\"tensorflow version: %s\" % tf.__version__)\n",
        " \n",
        "import torch\n",
        "print(\"PyTorch version: %s\" %torch.__version__)\n",
        "print(\"2021年4月PyTorch version最新版本 請參閱https://pytorch.org/\")"
      ]
    },
    {
      "cell_type": "code",
      "source": [
        "3**2"
      ],
      "metadata": {
        "colab": {
          "base_uri": "https://localhost:8080/"
        },
        "id": "tHCNSSfsMsha",
        "outputId": "75f4655a-732f-4452-f60a-2ef7f9931549"
      },
      "execution_count": 3,
      "outputs": [
        {
          "output_type": "execute_result",
          "data": {
            "text/plain": [
              "9"
            ]
          },
          "metadata": {},
          "execution_count": 3
        }
      ]
    },
    {
      "cell_type": "code",
      "source": [
        "!pip list"
      ],
      "metadata": {
        "id": "tQ5igRPWN6rx"
      },
      "execution_count": null,
      "outputs": []
    },
    {
      "cell_type": "code",
      "source": [
        "! uname -a"
      ],
      "metadata": {
        "colab": {
          "base_uri": "https://localhost:8080/"
        },
        "id": "3JanWRq7OYEO",
        "outputId": "fb62c66f-522e-4e09-d165-b159bd9578a9"
      },
      "execution_count": 5,
      "outputs": [
        {
          "output_type": "stream",
          "name": "stdout",
          "text": [
            "Linux 056de981e6f1 5.10.147+ #1 SMP Sat Dec 10 16:00:40 UTC 2022 x86_64 x86_64 x86_64 GNU/Linux\n"
          ]
        }
      ]
    },
    {
      "cell_type": "code",
      "source": [
        "!ls /etc"
      ],
      "metadata": {
        "colab": {
          "base_uri": "https://localhost:8080/"
        },
        "id": "RwLBCsA1Ojtv",
        "outputId": "017128f4-683d-4f3a-e5f8-96598b48948f"
      },
      "execution_count": 7,
      "outputs": [
        {
          "output_type": "stream",
          "name": "stdout",
          "text": [
            "adduser.conf\t\t       iproute2\t\tperl\n",
            "alternatives\t\t       ipython\t\tpip.conf\n",
            "apparmor.d\t\t       issue\t\tpolkit-1\n",
            "apt\t\t\t       issue.net\tprofile\n",
            "bash.bashrc\t\t       java-11-openjdk\tprofile.d\n",
            "bash_completion.d\t       jupyter\t\tpulse\n",
            "bindresvport.blacklist\t       kernel\t\tpython2.7\n",
            "binfmt.d\t\t       ldap\t\tpython3\n",
            "ca-certificates\t\t       ld.so.cache\tpython3.8\n",
            "ca-certificates.conf\t       ld.so.conf\tR\n",
            "ca-certificates.conf.dpkg-old  ld.so.conf.d\trc0.d\n",
            "calendar\t\t       legal\t\trc1.d\n",
            "cron.d\t\t\t       libaudit.conf\trc2.d\n",
            "cron.daily\t\t       libibverbs.d\trc3.d\n",
            "cron.weekly\t\t       libnl-3\t\trc4.d\n",
            "dbus-1\t\t\t       libpaper.d\trc5.d\n",
            "dconf\t\t\t       locale.alias\trc6.d\n",
            "debconf.conf\t\t       locale.gen\trcS.d\n",
            "debian_version\t\t       localtime\tresolv.conf\n",
            "default\t\t\t       logcheck\t\trmt\n",
            "deluser.conf\t\t       login.defs\tsecurity\n",
            "depmod.d\t\t       logrotate.d\tselinux\n",
            "dhcp\t\t\t       lsb-release\tsensors3.conf\n",
            "dictionaries-common\t       machine-id\tsensors.d\n",
            "dkms\t\t\t       mailcap\t\tshadow\n",
            "dpkg\t\t\t       mailcap.order\tshadow-\n",
            "e2scrub.conf\t\t       manpath.config\tshells\n",
            "emacs\t\t\t       mime.types\tskel\n",
            "environment\t\t       mke2fs.conf\tssh\n",
            "fonts\t\t\t       modprobe.d\tssl\n",
            "fstab\t\t\t       modules\t\tsubgid\n",
            "fuse.conf\t\t       modules-load.d\tsubuid\n",
            "gai.conf\t\t       mtab\t\tsudoers\n",
            "geoclue\t\t\t       mysql\t\tsudoers.d\n",
            "gitconfig\t\t       netconfig\tsysctl.conf\n",
            "glvnd\t\t\t       networks\t\tsysctl.d\n",
            "groff\t\t\t       nsswitch.conf\tsystemd\n",
            "group\t\t\t       ODBCDataSources\tterminfo\n",
            "group-\t\t\t       odbc.ini\t\ttimezone\n",
            "gshadow\t\t\t       openal\t\ttmpfiles.d\n",
            "gshadow-\t\t       OpenCL\t\tucf.conf\n",
            "gss\t\t\t       openmpi\t\tudev\n",
            "gtk-3.0\t\t\t       opt\t\tupdate-motd.d\n",
            "host.conf\t\t       os-release\tvdpau_wrapper.cfg\n",
            "hostname\t\t       PackageKit\tvim\n",
            "hosts\t\t\t       pam.conf\t\tvulkan\n",
            "hosts.allow\t\t       pam.d\t\twgetrc\n",
            "hosts.deny\t\t       papersize\tX11\n",
            "init.d\t\t\t       passwd\t\txattr.conf\n",
            "inputrc\t\t\t       passwd-\t\txdg\n"
          ]
        }
      ]
    },
    {
      "cell_type": "code",
      "source": [
        "!g++ --help"
      ],
      "metadata": {
        "colab": {
          "base_uri": "https://localhost:8080/"
        },
        "id": "TMf4B843PJU7",
        "outputId": "5b560f74-a9a3-4f03-e78b-7b133d413547"
      },
      "execution_count": 8,
      "outputs": [
        {
          "output_type": "stream",
          "name": "stdout",
          "text": [
            "Usage: g++ [options] file...\n",
            "Options:\n",
            "  -pass-exit-codes         Exit with highest error code from a phase.\n",
            "  --help                   Display this information.\n",
            "  --target-help            Display target specific command line options.\n",
            "  --help={common|optimizers|params|target|warnings|[^]{joined|separate|undocumented}}[,...].\n",
            "                           Display specific types of command line options.\n",
            "  (Use '-v --help' to display command line options of sub-processes).\n",
            "  --version                Display compiler version information.\n",
            "  -dumpspecs               Display all of the built in spec strings.\n",
            "  -dumpversion             Display the version of the compiler.\n",
            "  -dumpmachine             Display the compiler's target processor.\n",
            "  -print-search-dirs       Display the directories in the compiler's search path.\n",
            "  -print-libgcc-file-name  Display the name of the compiler's companion library.\n",
            "  -print-file-name=<lib>   Display the full path to library <lib>.\n",
            "  -print-prog-name=<prog>  Display the full path to compiler component <prog>.\n",
            "  -print-multiarch         Display the target's normalized GNU triplet, used as\n",
            "                           a component in the library path.\n",
            "  -print-multi-directory   Display the root directory for versions of libgcc.\n",
            "  -print-multi-lib         Display the mapping between command line options and\n",
            "                           multiple library search directories.\n",
            "  -print-multi-os-directory Display the relative path to OS libraries.\n",
            "  -print-sysroot           Display the target libraries directory.\n",
            "  -print-sysroot-headers-suffix Display the sysroot suffix used to find headers.\n",
            "  -Wa,<options>            Pass comma-separated <options> on to the assembler.\n",
            "  -Wp,<options>            Pass comma-separated <options> on to the preprocessor.\n",
            "  -Wl,<options>            Pass comma-separated <options> on to the linker.\n",
            "  -Xassembler <arg>        Pass <arg> on to the assembler.\n",
            "  -Xpreprocessor <arg>     Pass <arg> on to the preprocessor.\n",
            "  -Xlinker <arg>           Pass <arg> on to the linker.\n",
            "  -save-temps              Do not delete intermediate files.\n",
            "  -save-temps=<arg>        Do not delete intermediate files.\n",
            "  -no-canonical-prefixes   Do not canonicalize paths when building relative\n",
            "                           prefixes to other gcc components.\n",
            "  -pipe                    Use pipes rather than intermediate files.\n",
            "  -time                    Time the execution of each subprocess.\n",
            "  -specs=<file>            Override built-in specs with the contents of <file>.\n",
            "  -std=<standard>          Assume that the input sources are for <standard>.\n",
            "  --sysroot=<directory>    Use <directory> as the root directory for headers\n",
            "                           and libraries.\n",
            "  -B <directory>           Add <directory> to the compiler's search paths.\n",
            "  -v                       Display the programs invoked by the compiler.\n",
            "  -###                     Like -v but options quoted and commands not executed.\n",
            "  -E                       Preprocess only; do not compile, assemble or link.\n",
            "  -S                       Compile only; do not assemble or link.\n",
            "  -c                       Compile and assemble, but do not link.\n",
            "  -o <file>                Place the output into <file>.\n",
            "  -pie                     Create a dynamically linked position independent\n",
            "                           executable.\n",
            "  -shared                  Create a shared library.\n",
            "  -x <language>            Specify the language of the following input files.\n",
            "                           Permissible languages include: c c++ assembler none\n",
            "                           'none' means revert to the default behavior of\n",
            "                           guessing the language based on the file's extension.\n",
            "\n",
            "Options starting with -g, -f, -m, -O, -W, or --param are automatically\n",
            " passed on to the various sub-processes invoked by g++.  In order to pass\n",
            " other options on to these processes the -W<letter> options must be used.\n",
            "\n",
            "For bug reporting instructions, please see:\n",
            "<file:///usr/share/doc/gcc-9/README.Bugs>.\n"
          ]
        }
      ]
    },
    {
      "cell_type": "markdown",
      "source": [
        "# C++ 環境\n",
        "程式碼 : !g++ --help"
      ],
      "metadata": {
        "id": "4oyHGii6P6Et"
      }
    }
  ]
}